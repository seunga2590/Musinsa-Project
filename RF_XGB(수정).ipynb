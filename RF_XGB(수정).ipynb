{
 "cells": [
  {
   "cell_type": "code",
   "execution_count": 3,
   "metadata": {
    "executionInfo": {
     "elapsed": 1375,
     "status": "ok",
     "timestamp": 1668485707372,
     "user": {
      "displayName": "한준표",
      "userId": "17918911350431912102"
     },
     "user_tz": -540
    },
    "id": "o2a7I6DSfKh2"
   },
   "outputs": [],
   "source": [
    "import optuna\n",
    "\n",
    "from sklearn.preprocessing import LabelEncoder\n",
    "from sklearn.preprocessing import OneHotEncoder\n",
    "\n",
    "import numpy as np\n",
    "import pandas as pd\n",
    "import matplotlib.pyplot as plt\n",
    "\n",
    "from sklearn.model_selection import train_test_split\n",
    "from sklearn.model_selection import KFold\n",
    "from sklearn.model_selection import cross_val_score\n",
    "from sklearn.metrics import accuracy_score\n",
    "from sklearn.ensemble import RandomForestClassifier\n",
    "from xgboost import XGBClassifier\n",
    "from lightgbm import LGBMClassifier\n",
    "\n",
    "from sklearn.ensemble import VotingClassifier"
   ]
  },
  {
   "cell_type": "code",
   "execution_count": 2,
   "metadata": {},
   "outputs": [
    {
     "name": "stdout",
     "output_type": "stream",
     "text": [
      "Collecting package metadata (current_repodata.json): ...working... done\n",
      "Solving environment: ...working... done\n",
      "\n",
      "## Package Plan ##\n",
      "\n",
      "  environment location: C:\\Users\\NTX550\\anaconda3\n",
      "\n",
      "  added / updated specs:\n",
      "    - lightgbm\n",
      "\n",
      "\n",
      "The following packages will be downloaded:\n",
      "\n",
      "    package                    |            build\n",
      "    ---------------------------|-----------------\n",
      "    lightgbm-3.2.1             |   py39hd77b12b_0         754 KB\n",
      "    ------------------------------------------------------------\n",
      "                                           Total:         754 KB\n",
      "\n",
      "The following NEW packages will be INSTALLED:\n",
      "\n",
      "  lightgbm           pkgs/main/win-64::lightgbm-3.2.1-py39hd77b12b_0 None\n",
      "\n",
      "\n",
      "\n",
      "Downloading and Extracting Packages\n",
      "\n",
      "lightgbm-3.2.1       | 754 KB    |            |   0% \n",
      "lightgbm-3.2.1       | 754 KB    | #2         |  13% \n",
      "lightgbm-3.2.1       | 754 KB    | ########## | 100% \n",
      "lightgbm-3.2.1       | 754 KB    | ########## | 100% \n",
      "Preparing transaction: ...working... done\n",
      "Verifying transaction: ...working... done\n",
      "Executing transaction: ...working... done\n",
      "Retrieving notices: ...working... done\n",
      "\n",
      "Note: you may need to restart the kernel to use updated packages.\n"
     ]
    }
   ],
   "source": [
    "conda install -c conda-forge lightgbm"
   ]
  },
  {
   "cell_type": "code",
   "execution_count": 4,
   "metadata": {
    "executionInfo": {
     "elapsed": 303,
     "status": "ok",
     "timestamp": 1668486187024,
     "user": {
      "displayName": "한준표",
      "userId": "17918911350431912102"
     },
     "user_tz": -540
    },
    "id": "HTjfh4hOhgZY"
   },
   "outputs": [],
   "source": [
    "from sklearn.model_selection import GridSearchCV\n",
    "from sklearn.model_selection import RandomizedSearchCV\n",
    "import joblib"
   ]
  },
  {
   "cell_type": "code",
   "execution_count": null,
   "metadata": {
    "id": "BGIW9FqUf9AD"
   },
   "outputs": [],
   "source": [
    "##### data label split"
   ]
  },
  {
   "cell_type": "code",
   "execution_count": 5,
   "metadata": {},
   "outputs": [],
   "source": [
    "data = pd.read_csv(\"total.csv\")"
   ]
  },
  {
   "cell_type": "code",
   "execution_count": 10,
   "metadata": {},
   "outputs": [
    {
     "name": "stdout",
     "output_type": "stream",
     "text": [
      "<class 'pandas.core.frame.DataFrame'>\n",
      "RangeIndex: 1464 entries, 0 to 1463\n",
      "Data columns (total 9 columns):\n",
      " #   Column        Non-Null Count  Dtype \n",
      "---  ------        --------------  ----- \n",
      " 0   product_name  1464 non-null   object\n",
      " 1   brand_name    1462 non-null   object\n",
      " 2   season        1464 non-null   object\n",
      " 3   gender        1464 non-null   int64 \n",
      " 4   rating        1464 non-null   int64 \n",
      " 5   review_cnt    1464 non-null   int64 \n",
      " 6   exit          1464 non-null   object\n",
      " 7   goodsnum      1464 non-null   int64 \n",
      " 8   price         1464 non-null   int64 \n",
      "dtypes: int64(5), object(4)\n",
      "memory usage: 103.1+ KB\n"
     ]
    }
   ],
   "source": [
    "data.info()"
   ]
  },
  {
   "cell_type": "code",
   "execution_count": 14,
   "metadata": {},
   "outputs": [],
   "source": [
    "data = data.iloc[:,1:]"
   ]
  },
  {
   "cell_type": "code",
   "execution_count": 15,
   "metadata": {},
   "outputs": [
    {
     "name": "stdout",
     "output_type": "stream",
     "text": [
      "<class 'pandas.core.frame.DataFrame'>\n",
      "RangeIndex: 1464 entries, 0 to 1463\n",
      "Data columns (total 8 columns):\n",
      " #   Column      Non-Null Count  Dtype \n",
      "---  ------      --------------  ----- \n",
      " 0   brand_name  1462 non-null   object\n",
      " 1   season      1464 non-null   object\n",
      " 2   gender      1464 non-null   int64 \n",
      " 3   rating      1464 non-null   int64 \n",
      " 4   review_cnt  1464 non-null   int64 \n",
      " 5   exit        1464 non-null   object\n",
      " 6   goodsnum    1464 non-null   int64 \n",
      " 7   price       1464 non-null   int64 \n",
      "dtypes: int64(5), object(3)\n",
      "memory usage: 91.6+ KB\n"
     ]
    }
   ],
   "source": [
    "data.info()"
   ]
  },
  {
   "cell_type": "code",
   "execution_count": 17,
   "metadata": {},
   "outputs": [],
   "source": [
    "# 2) null 데이터 체크 함수\n",
    "# Age, Cabin, Embarked, Fare\n",
    "# 입력 : df --> 누락처리 --> 출력:df\n",
    "\n",
    "def check_fillna(df):\n",
    "    df[\"brand_name\"].fillna(\"RISINGWAVE\", inplace=True)\n",
    "    return df"
   ]
  },
  {
   "cell_type": "code",
   "execution_count": 18,
   "metadata": {},
   "outputs": [],
   "source": [
    "# 불필요한 컬럼 제거 함수\n",
    "# df --> 컬럼 제거 --> df\n",
    "\n",
    "def drop_features(df):\n",
    "    df.drop([\"goodsnum\"], axis=1, inplace=True)\n",
    "    return df"
   ]
  },
  {
   "cell_type": "code",
   "execution_count": 19,
   "metadata": {},
   "outputs": [],
   "source": [
    "def encode_feature(df):\n",
    "    # 인코딩 컬럼을 리스트업\n",
    "    features = [\"brand_name\", \"season\", \"exit\"]\n",
    "    # 위의 컬럼들을 인코딩\n",
    "    for f in features:\n",
    "        le = LabelEncoder()\n",
    "        le.fit(df.loc[:, f])\n",
    "        df.loc[:, f] = le.transform(df.loc[:,f])\n",
    "    return df"
   ]
  },
  {
   "cell_type": "code",
   "execution_count": 20,
   "metadata": {},
   "outputs": [],
   "source": [
    "### 전처리를 함수화 프로세스로\n",
    "\n",
    "def musinsa_preprocess(df):\n",
    "    df = check_fillna(df)\n",
    "    df = drop_features(df)\n",
    "    df = encode_feature(df)\n",
    "    return df\n",
    "#### ######"
   ]
  },
  {
   "cell_type": "code",
   "execution_count": 22,
   "metadata": {
    "id": "esE7nHNJf9CK"
   },
   "outputs": [
    {
     "name": "stdout",
     "output_type": "stream",
     "text": [
      "<class 'pandas.core.frame.DataFrame'>\n",
      "RangeIndex: 1464 entries, 0 to 1463\n",
      "Data columns (total 7 columns):\n",
      " #   Column      Non-Null Count  Dtype \n",
      "---  ------      --------------  ----- \n",
      " 0   brand_name  1462 non-null   object\n",
      " 1   season      1464 non-null   object\n",
      " 2   gender      1464 non-null   int64 \n",
      " 3   review_cnt  1464 non-null   int64 \n",
      " 4   exit        1464 non-null   object\n",
      " 5   goodsnum    1464 non-null   int64 \n",
      " 6   price       1464 non-null   int64 \n",
      "dtypes: int64(4), object(3)\n",
      "memory usage: 80.2+ KB\n"
     ]
    }
   ],
   "source": [
    "y_data = data.loc[:, \"rating\"]  # like, rating범주화 별로 따로 진행\n",
    "X_data = data.drop(columns = [\"rating\"])\n",
    "X_data.info()"
   ]
  },
  {
   "cell_type": "code",
   "execution_count": 23,
   "metadata": {},
   "outputs": [
    {
     "name": "stdout",
     "output_type": "stream",
     "text": [
      "<class 'pandas.core.frame.DataFrame'>\n",
      "RangeIndex: 1464 entries, 0 to 1463\n",
      "Data columns (total 6 columns):\n",
      " #   Column      Non-Null Count  Dtype\n",
      "---  ------      --------------  -----\n",
      " 0   brand_name  1464 non-null   int32\n",
      " 1   season      1464 non-null   int32\n",
      " 2   gender      1464 non-null   int64\n",
      " 3   review_cnt  1464 non-null   int64\n",
      " 4   exit        1464 non-null   int32\n",
      " 5   price       1464 non-null   int64\n",
      "dtypes: int32(3), int64(3)\n",
      "memory usage: 51.6 KB\n"
     ]
    }
   ],
   "source": [
    "X_data = musinsa_preprocess(X_data)\n",
    "X_data.info()"
   ]
  },
  {
   "cell_type": "code",
   "execution_count": null,
   "metadata": {
    "id": "melw5JOCgOhr"
   },
   "outputs": [],
   "source": [
    "#### train_test split & kfold 선언"
   ]
  },
  {
   "cell_type": "code",
   "execution_count": 24,
   "metadata": {
    "id": "1KlKE1kBfrVA"
   },
   "outputs": [],
   "source": [
    "X_train, X_test, y_train, y_test = train_test_split(\n",
    "      X_data, y_data, test_size = 0.2, random_state=1111 # 만약 범주화의 경우 stratify\n",
    ")\n",
    "kfold = KFold(n_splits = 5, random_state=1111, shuffle=True)"
   ]
  },
  {
   "cell_type": "code",
   "execution_count": null,
   "metadata": {
    "id": "wx9ATTCcgotb"
   },
   "outputs": [],
   "source": [
    "#### RF base line"
   ]
  },
  {
   "cell_type": "code",
   "execution_count": 25,
   "metadata": {
    "id": "r_CU-TmkgaIS"
   },
   "outputs": [
    {
     "name": "stdout",
     "output_type": "stream",
     "text": [
      "RF 1번째 검증 ACC : 0.8723\n",
      "RF 2번째 검증 ACC : 0.8034\n",
      "RF 3번째 검증 ACC : 0.8761\n",
      "RF 4번째 검증 ACC : 0.8590\n",
      "RF 5번째 검증 ACC : 0.8333\n",
      "RF 평균 ACC :  0.8488270594653574\n"
     ]
    }
   ],
   "source": [
    "rf = RandomForestClassifier(n_jobs = -1, random_state=1111)\n",
    "scores= cross_val_score(rf, X_train, y_train,\n",
    "                        cv = kfold, scoring = \"accuracy\")\n",
    "\n",
    "for iter_count, acc in enumerate(scores):\n",
    "    print(\"RF {0}번째 검증 ACC : {1:.4f}\".format(iter_count+1, acc))\n",
    "print(\"RF 평균 ACC : \", scores.mean())"
   ]
  },
  {
   "cell_type": "code",
   "execution_count": null,
   "metadata": {
    "id": "rOGTUxx3g2jj"
   },
   "outputs": [],
   "source": [
    "#### optuna 돌리기 위한 설정"
   ]
  },
  {
   "cell_type": "code",
   "execution_count": 26,
   "metadata": {
    "id": "UTy60HTmgaKq"
   },
   "outputs": [],
   "source": [
    "parameters = {\n",
    "    \"n_estimators\" : [10,50,100, 500],\n",
    "    \"max_features\" : [\"sqrt\", \"log2\"],\n",
    "    \"max_depth\" : [2,3,5,10,30,50],\n",
    "    \"min_samples_split\" : [2,4,6,10,30],\n",
    "    \"min_samples_leaf\" : [1,2,3,5,10]\n",
    "}"
   ]
  },
  {
   "cell_type": "code",
   "execution_count": 27,
   "metadata": {
    "id": "N9dtkEhUgaMq"
   },
   "outputs": [],
   "source": [
    "def rf_objective(trial):\n",
    "    params = {\n",
    "      \"criterion\" : trial.suggest_categorical(\"criterion\", [\"gini\", \"entropy\"]),\n",
    "      \"n_estimators\" : trial.suggest_int(\"n_estimators\", 100, 3000),\n",
    "      \"min_samples_leaf\" : trial.suggest_int(\"min_samples_leaf\", 1, 15),\n",
    "      \"max_features\" : trial.suggest_int(\"max_features\", 1, X_train.shape[1]),\n",
    "      \"max_depth\" : trial.suggest_int(\"max_depth\", 1, 100),\n",
    "      \"max_leaf_nodes\" : trial.suggest_int(\"max_leaf_nodes\", 2, 1000)\n",
    "  }\n",
    "    rf = RandomForestClassifier(n_jobs = -1, random_state = 1111, **params)\n",
    "    rf.fit(X_train, y_train)\n",
    "    scores = cross_val_score(rf, X_train, y_train, cv = kfold, scoring = \"accuracy\")\n",
    "    acc_mean = scores.mean()\n",
    "\n",
    "    return acc_mean"
   ]
  },
  {
   "cell_type": "code",
   "execution_count": null,
   "metadata": {
    "id": "Ud2CoVvbgaO7"
   },
   "outputs": [
    {
     "name": "stderr",
     "output_type": "stream",
     "text": [
      "\u001b[32m[I 2022-11-17 11:06:34,520]\u001b[0m A new study created in memory with name: no-name-2ad35105-e0ff-4015-8009-dda1c81cdcc8\u001b[0m\n",
      "\u001b[32m[I 2022-11-17 11:06:58,771]\u001b[0m Trial 0 finished with value: 0.8616402982360428 and parameters: {'criterion': 'gini', 'n_estimators': 2177, 'min_samples_leaf': 15, 'max_features': 2, 'max_depth': 39, 'max_leaf_nodes': 265}. Best is trial 0 with value: 0.8616402982360428.\u001b[0m\n",
      "\u001b[32m[I 2022-11-17 11:07:06,584]\u001b[0m Trial 1 finished with value: 0.8565157301327513 and parameters: {'criterion': 'entropy', 'n_estimators': 573, 'min_samples_leaf': 9, 'max_features': 3, 'max_depth': 13, 'max_leaf_nodes': 744}. Best is trial 0 with value: 0.8616402982360428.\u001b[0m\n",
      "\u001b[32m[I 2022-11-17 11:07:26,246]\u001b[0m Trial 2 finished with value: 0.860785597381342 and parameters: {'criterion': 'gini', 'n_estimators': 1852, 'min_samples_leaf': 14, 'max_features': 2, 'max_depth': 11, 'max_leaf_nodes': 968}. Best is trial 0 with value: 0.8616402982360428.\u001b[0m\n",
      "\u001b[32m[I 2022-11-17 11:07:35,314]\u001b[0m Trial 3 finished with value: 0.8334751773049647 and parameters: {'criterion': 'gini', 'n_estimators': 670, 'min_samples_leaf': 13, 'max_features': 1, 'max_depth': 94, 'max_leaf_nodes': 180}. Best is trial 0 with value: 0.8616402982360428.\u001b[0m\n",
      "\u001b[32m[I 2022-11-17 11:08:05,998]\u001b[0m Trial 4 finished with value: 0.8590798326968538 and parameters: {'criterion': 'gini', 'n_estimators': 2869, 'min_samples_leaf': 15, 'max_features': 4, 'max_depth': 69, 'max_leaf_nodes': 667}. Best is trial 0 with value: 0.8616402982360428.\u001b[0m\n",
      "\u001b[32m[I 2022-11-17 11:08:26,906]\u001b[0m Trial 5 finished with value: 0.8642116748499727 and parameters: {'criterion': 'entropy', 'n_estimators': 1934, 'min_samples_leaf': 3, 'max_features': 3, 'max_depth': 5, 'max_leaf_nodes': 247}. Best is trial 5 with value: 0.8642116748499727.\u001b[0m\n",
      "\u001b[32m[I 2022-11-17 11:08:36,509]\u001b[0m Trial 6 finished with value: 0.8590761956719403 and parameters: {'criterion': 'gini', 'n_estimators': 648, 'min_samples_leaf': 11, 'max_features': 3, 'max_depth': 92, 'max_leaf_nodes': 686}. Best is trial 5 with value: 0.8642116748499727.\u001b[0m\n",
      "\u001b[32m[I 2022-11-17 11:08:43,392]\u001b[0m Trial 7 finished with value: 0.8360392798690672 and parameters: {'criterion': 'gini', 'n_estimators': 466, 'min_samples_leaf': 10, 'max_features': 1, 'max_depth': 7, 'max_leaf_nodes': 850}. Best is trial 5 with value: 0.8642116748499727.\u001b[0m\n",
      "\u001b[32m[I 2022-11-17 11:09:05,829]\u001b[0m Trial 8 finished with value: 0.8573740680123659 and parameters: {'criterion': 'gini', 'n_estimators': 2077, 'min_samples_leaf': 10, 'max_features': 2, 'max_depth': 14, 'max_leaf_nodes': 860}. Best is trial 5 with value: 0.8642116748499727.\u001b[0m\n",
      "\u001b[32m[I 2022-11-17 11:09:18,476]\u001b[0m Trial 9 finished with value: 0.8565157301327513 and parameters: {'criterion': 'entropy', 'n_estimators': 941, 'min_samples_leaf': 3, 'max_features': 5, 'max_depth': 37, 'max_leaf_nodes': 977}. Best is trial 5 with value: 0.8642116748499727.\u001b[0m\n",
      "\u001b[32m[I 2022-11-17 11:09:35,505]\u001b[0m Trial 10 finished with value: 0.8505400981996727 and parameters: {'criterion': 'entropy', 'n_estimators': 1336, 'min_samples_leaf': 1, 'max_features': 6, 'max_depth': 60, 'max_leaf_nodes': 417}. Best is trial 5 with value: 0.8642116748499727.\u001b[0m\n",
      "\u001b[32m[I 2022-11-17 11:10:02,780]\u001b[0m Trial 11 finished with value: 0.8599308965266411 and parameters: {'criterion': 'entropy', 'n_estimators': 2450, 'min_samples_leaf': 6, 'max_features': 4, 'max_depth': 36, 'max_leaf_nodes': 99}. Best is trial 5 with value: 0.8642116748499727.\u001b[0m\n",
      "\u001b[32m[I 2022-11-17 11:10:19,763]\u001b[0m Trial 12 finished with value: 0.8530969267139479 and parameters: {'criterion': 'entropy', 'n_estimators': 1518, 'min_samples_leaf': 6, 'max_features': 2, 'max_depth': 33, 'max_leaf_nodes': 324}. Best is trial 5 with value: 0.8642116748499727.\u001b[0m\n"
     ]
    }
   ],
   "source": [
    "rf_study = optuna.create_study(direction = \"maximize\")\n",
    "rf_study.optimize(rf_objective, n_trials = 50)"
   ]
  },
  {
   "cell_type": "code",
   "execution_count": null,
   "metadata": {
    "id": "-Vc09dXWimXn"
   },
   "outputs": [],
   "source": [
    "rf_study.best_params"
   ]
  },
  {
   "cell_type": "code",
   "execution_count": null,
   "metadata": {
    "id": "u7r13itAhJI0"
   },
   "outputs": [],
   "source": [
    "### 중요 파라미터 확인 및 이를 이용한 그리드서치"
   ]
  },
  {
   "cell_type": "code",
   "execution_count": null,
   "metadata": {
    "id": "c3mcHRFVg_L2"
   },
   "outputs": [],
   "source": [
    "optuna.visualization.plot_param_importances(rf_study)"
   ]
  },
  {
   "cell_type": "code",
   "execution_count": null,
   "metadata": {
    "id": "1rLQdThDgaRS"
   },
   "outputs": [],
   "source": [
    "parameters = {\n",
    "    \"n_estimators\" : [95, 100, 105, 110, 300],\n",
    "    \"max_features\" : [\"sqrt\"],\n",
    "    \"max_depth\" : [3,4,5,6],\n",
    "    \"min_samples_split\" : [2,3,4],\n",
    "    \"min_samples_leaf\" : [2,3,4]\n",
    "}\n",
    "rf = RandomForestClassifier(n_jobs = -1, random_state = 1111)\n",
    "rf_kf_gs = GridSearchCV(rf,\n",
    "                         param_grid = parameters,\n",
    "                         cv = kfold,\n",
    "                         scoring = \"accuracy\",\n",
    "                         n_jobs = -1)\n",
    "rf_kf_gs.fit(X_train, y_train)"
   ]
  },
  {
   "cell_type": "code",
   "execution_count": null,
   "metadata": {
    "id": "Or1za2fBgaTT"
   },
   "outputs": [],
   "source": [
    "rf_kf_gs_best = rf_kf_gs.best_estimator_\n",
    "rf_kf_gs_best_ypred = rf_kf_gs_best.predict(X_test)\n",
    "rf_kf_gs_best_acc = accuracy_score(y_test, rf_kf_gs_best_ypred)\n",
    "print(\"RF 그리드서치 정확도 : \", rf_kf_gs_best_acc)"
   ]
  },
  {
   "cell_type": "code",
   "execution_count": null,
   "metadata": {
    "id": "HjuDVUjEgaVd"
   },
   "outputs": [],
   "source": [
    "joblib.dump(rf_kf_gs_best, \"RF_model_sephora.pkl\")"
   ]
  },
  {
   "cell_type": "code",
   "execution_count": null,
   "metadata": {
    "id": "TQMirlhUgaYA"
   },
   "outputs": [],
   "source": []
  },
  {
   "cell_type": "code",
   "execution_count": null,
   "metadata": {
    "id": "LIt9CQGshxf_"
   },
   "outputs": [],
   "source": [
    "##################################################"
   ]
  },
  {
   "cell_type": "code",
   "execution_count": null,
   "metadata": {
    "id": "7n314e8_h7mU"
   },
   "outputs": [],
   "source": [
    "### xgboost base line"
   ]
  },
  {
   "cell_type": "code",
   "execution_count": null,
   "metadata": {
    "id": "riJmdFwUhxia"
   },
   "outputs": [],
   "source": [
    "xgbc = XGBClassifier(n_jobs = -1,\n",
    "                     random_state = 1111,\n",
    "                     use_label_encoder = False)\n",
    "kfold = KFold(n_splits = 5, random_state=1111, shuffle=True)"
   ]
  },
  {
   "cell_type": "code",
   "execution_count": null,
   "metadata": {
    "id": "nlH9F3FhhxkX"
   },
   "outputs": [],
   "source": [
    "scores= cross_val_score(xgbc, X_train, y_train,\n",
    "                        cv = kfold, scoring = \"accuracy\")\n",
    "\n",
    "for iter_count, acc in enumerate(scores):\n",
    "  print(\"xgbc {0}번째 검증 ACC : {1:.4f}\".format(iter_count+1, acc))\n",
    "print(\"xgbc 평균 ACC : \", scores.mean())"
   ]
  },
  {
   "cell_type": "code",
   "execution_count": null,
   "metadata": {
    "id": "fpwKj0Cfhxmc"
   },
   "outputs": [],
   "source": [
    "### xgboost optuna"
   ]
  },
  {
   "cell_type": "code",
   "execution_count": null,
   "metadata": {
    "id": "Wp1ybRSpiBtb"
   },
   "outputs": [],
   "source": [
    "def xgbc_objective(trial):\n",
    "  # 1 ) Test Parameter : 가변적으로 test HPT의 값들을 셋팅\n",
    "    params = {\n",
    "        \"booster\" : trial.suggest_categorical(\"booster\", [\"gbtree\", \"gblinear\", \"dart\"]),\n",
    "        \"n_estimators\" : trial.suggest_int(\"n_estimators\", 50, 2500),\n",
    "        \"subsample\" : trial.suggest_float(\"subsample\", 0.2,0.05),\n",
    "        \"colsample_bytree\" : trial.suggest_discrete_uniform(\"colsample_bytree\", 0.2, 1, 0.05),\n",
    "        \"max_depth\" : trial.suggest_int(\"max_depth\", 1, 100),\n",
    "        \"reg_alpha\" : trial.suggest_float(\"reg_alpha\", 0.003, 100),\n",
    "        \"reg_lambda\" : trial.suggest_float(\"reg_lambda\", 0.001, 100),\n",
    "        \"learning_rate\" : trial.suggest_float(\"learning_rate\", 0.001, 0.8)\n",
    "    }\n",
    "    # 2 ) 1번에서 파라미터를 받아줄 모델 작성\n",
    "    xgbc = XGBClassifier(n_jobs = -1,\n",
    "                      random_state = 1111,objective = \"binary:logistic\",\n",
    "                      eval_metric  =\"error\", **params)\n",
    "    # 3 ) 모델에 대해서 학습\n",
    "    xgbc.fit(X_train, y_train)\n",
    "    # 4 ) CV\n",
    "    scores = cross_val_score(xgbc, X_train, y_train, cv = kfold, scoring = \"accuracy\")\n",
    "    acc_mean = scores.mean()\n",
    "    # 5 ) optimizer에 대한 target --> acc_mean의 스코어\n",
    "    return acc_mean"
   ]
  },
  {
   "cell_type": "code",
   "execution_count": null,
   "metadata": {
    "id": "s87ulEaZiBxT"
   },
   "outputs": [],
   "source": [
    "xgbc_study = optuna.create_study(direction = \"maximize\")\n",
    "xgbc_study.optimize(xgbc_objective, n_trials = 50)"
   ]
  },
  {
   "cell_type": "code",
   "execution_count": null,
   "metadata": {
    "id": "kpeWBT-QiB0e"
   },
   "outputs": [],
   "source": [
    "xgbc_study.best_params"
   ]
  },
  {
   "cell_type": "code",
   "execution_count": null,
   "metadata": {
    "id": "EuG5b3ExiB3w"
   },
   "outputs": [],
   "source": [
    "# 중요 파라미터 확인 및 그리드 서치"
   ]
  },
  {
   "cell_type": "code",
   "execution_count": null,
   "metadata": {
    "id": "I3-923E1iB61"
   },
   "outputs": [],
   "source": [
    "optuna.visualization.plot_param_importances(xgbc_study)"
   ]
  },
  {
   "cell_type": "code",
   "execution_count": null,
   "metadata": {
    "id": "ksjR4dDwi3yM"
   },
   "outputs": [],
   "source": [
    "parameters = {\n",
    "    # 몇 개의 모델을 만들어서 이어달리기를 할지..\n",
    "    \"n_estimators\" : [40,50],\n",
    "    # 조금씩 이동하면서 에러 보상할까, 크게 크게 움직이면서 에러 보상..\n",
    "    \"learning_rate\":[ 0.09,0.11],\n",
    "\n",
    "    # Tree모형에 대한 조절\n",
    "    \"max_depth\":[7,8],\n",
    "    \"min_child_weight\":[0.4,0.5],\n",
    "    \"gamma\":[0, 0.1], \n",
    "\n",
    "    # 샘플링쪽 컨트롤\n",
    "    \"subsample\":[0.3,0.85],\n",
    "    \"colsample_bytree\":[0.3,0.85],\n",
    "\n",
    "    # 부스팅자체가 overfit--> 규약\n",
    "    \"reg_alpha\":[0, 0.005],\n",
    "    \"reg_lambda\":[9,10],\n",
    "}\n",
    "xgb_kf_gs = GridSearchCV(xgbc,\n",
    "                            param_grid=parameters,\n",
    "                                cv = kfold,\n",
    "                                scoring=\"accuracy\",\n",
    "                                n_jobs = -1 ,\n",
    "                                )\n",
    "xgb_kf_gs.fit(X_train, y_train)"
   ]
  },
  {
   "cell_type": "code",
   "execution_count": null,
   "metadata": {
    "id": "ibKoiJcui4HK"
   },
   "outputs": [],
   "source": [
    "xgb_kf_gs_best = xgb_kf_gs.best_estimator_\n",
    "xgb_kf_gs_best_ypred = xgb_kf_gs_best.predict(X_test)\n",
    "xgb_kf_gs_best_acc = accuracy_score(y_test, xgb_kf_gs_best_ypred)\n",
    "print(\"XGB 그리드서치 정확도 : \", xgb_kf_gs_best_acc)"
   ]
  },
  {
   "cell_type": "code",
   "execution_count": null,
   "metadata": {
    "id": "-Hs7Gq-mjH4X"
   },
   "outputs": [],
   "source": []
  },
  {
   "cell_type": "code",
   "execution_count": null,
   "metadata": {
    "id": "nLDiuHNgjIN1"
   },
   "outputs": [],
   "source": []
  },
  {
   "cell_type": "code",
   "execution_count": null,
   "metadata": {
    "id": "0wooPolMjIQB"
   },
   "outputs": [],
   "source": []
  },
  {
   "cell_type": "code",
   "execution_count": null,
   "metadata": {
    "id": "Lrmk4ncJjISF"
   },
   "outputs": [],
   "source": [
    "#############################################################"
   ]
  },
  {
   "cell_type": "code",
   "execution_count": null,
   "metadata": {
    "id": "uWQLmfT4jIUF"
   },
   "outputs": [],
   "source": [
    "### lgbm base line"
   ]
  },
  {
   "cell_type": "code",
   "execution_count": null,
   "metadata": {
    "id": "33A7eBRqi4J9"
   },
   "outputs": [],
   "source": [
    "lgbm = LGBMClassifier(\n",
    "    random_state = 1111,\n",
    "    n_jobs = -1\n",
    ")"
   ]
  },
  {
   "cell_type": "code",
   "execution_count": null,
   "metadata": {
    "id": "6Mib0JuOi4Le"
   },
   "outputs": [],
   "source": []
  },
  {
   "cell_type": "code",
   "execution_count": null,
   "metadata": {
    "id": "c1ZfJoZTi4Nm"
   },
   "outputs": [],
   "source": []
  }
 ],
 "metadata": {
  "colab": {
   "authorship_tag": "ABX9TyOaA3zB46Un1E2rgvPl+/PZ",
   "collapsed_sections": [],
   "provenance": []
  },
  "kernelspec": {
   "display_name": "Python 3 (ipykernel)",
   "language": "python",
   "name": "python3"
  },
  "language_info": {
   "codemirror_mode": {
    "name": "ipython",
    "version": 3
   },
   "file_extension": ".py",
   "mimetype": "text/x-python",
   "name": "python",
   "nbconvert_exporter": "python",
   "pygments_lexer": "ipython3",
   "version": "3.9.12"
  }
 },
 "nbformat": 4,
 "nbformat_minor": 1
}
